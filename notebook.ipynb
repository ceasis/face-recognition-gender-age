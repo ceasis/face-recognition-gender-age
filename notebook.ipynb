{
 "cells": [
  {
   "cell_type": "code",
   "execution_count": 1,
   "id": "initial_id",
   "metadata": {
    "ExecuteTime": {
     "end_time": "2024-07-19T08:03:40.774058Z",
     "start_time": "2024-07-19T08:03:39.775051Z"
    },
    "collapsed": true
   },
   "outputs": [
    {
     "name": "stdout",
     "output_type": "stream",
     "text": [
      "Requirement already satisfied: opencv-python in c:\\python312\\lib\\site-packages (4.10.0.84)\n",
      "Requirement already satisfied: numpy>=1.21.2 in c:\\python312\\lib\\site-packages (from opencv-python) (2.0.0)\n",
      "Note: you may need to restart the kernel to use updated packages.\n"
     ]
    },
    {
     "name": "stderr",
     "output_type": "stream",
     "text": [
      "\n",
      "[notice] A new release of pip is available: 24.0 -> 24.1.2\n",
      "[notice] To update, run: python.exe -m pip install --upgrade pip\n"
     ]
    }
   ],
   "source": [
    "%pip install opencv-python\n"
   ]
  },
  {
   "cell_type": "code",
   "execution_count": 1,
   "id": "995b6d8efa8d369b",
   "metadata": {
    "ExecuteTime": {
     "end_time": "2024-07-19T11:22:39.727211Z",
     "start_time": "2024-07-19T11:18:16.981671Z"
    }
   },
   "outputs": [
    {
     "name": "stdout",
     "output_type": "stream",
     "text": [
      "Camera opened successfully.\n"
     ]
    }
   ],
   "source": [
    "import cv2\n",
    "import numpy as np\n",
    "\n",
    "# Load pre-trained models\n",
    "face_cascade = cv2.CascadeClassifier(cv2.data.haarcascades + 'haarcascade_frontalface_default.xml')\n",
    "gender_net = cv2.dnn.readNetFromCaffe('models/deploy.prototxt', 'models/gender_net.caffemodel')\n",
    "age_net = cv2.dnn.readNetFromCaffe('models/deploy_age2.prototxt', 'models/age_net.caffemodel')\n",
    "\n",
    "GENDER_LIST = ['M', 'F']\n",
    "AGE_LIST = ['3', '5', '10', '20', '35', '40', '50', '65']\n",
    "\n",
    "# Open the default camera\n",
    "cap = cv2.VideoCapture(0)\n",
    "\n",
    "if not cap.isOpened():\n",
    "    print(\"Error: Could not open camera.\")\n",
    "else:\n",
    "    print(\"Camera opened successfully.\")\n",
    "\n",
    "    while True:\n",
    "        \n",
    "        ret, frame = cap.read()\n",
    "        \n",
    "        if not ret:\n",
    "            print(\"Error: Cannot receive frame (stream end?). Exiting ...\")\n",
    "            break\n",
    "        \n",
    "        gray = cv2.cvtColor(frame, cv2.COLOR_BGR2GRAY)\n",
    "\n",
    "        faces = face_cascade.detectMultiScale(gray, scaleFactor=1.1, minNeighbors=5, minSize=(30, 30))\n",
    "        \n",
    "        cv2.putText(frame, \"Press Q or ESC to exit\", (50, 50), cv2.FONT_HERSHEY_SIMPLEX, 0.5, (255, 255, 255), 1)\n",
    "\n",
    "        for (x, y, w, h) in faces:\n",
    "            face_img = frame[y:y + h, x:x + w].copy()\n",
    "            blob = cv2.dnn.blobFromImage(face_img, 1.0, (227, 227), (78.4263377603, 87.7689143744, 114.895847746), swapRB=False)\n",
    "            \n",
    "            gender_net.setInput(blob)\n",
    "            gender_preds = gender_net.forward()\n",
    "            gender = GENDER_LIST[gender_preds[0].argmax()]\n",
    "\n",
    "            age_net.setInput(blob)\n",
    "            age_preds = age_net.forward()\n",
    "            age = AGE_LIST[age_preds[0].argmax()]\n",
    "            \n",
    "            label = f\"{gender}\" + \" | ~\" + f\"{age}\"\n",
    "            label_color = (255, 255, 255)\n",
    "\n",
    "            if label == 'Male':\n",
    "                color = (255, 0, 0)\n",
    "            else:\n",
    "                color = (0, 255, 0)\n",
    "            \n",
    "            cv2.rectangle(frame, (x, y), (x + w, y + h), color, 2)\n",
    "            cv2.putText(frame, label, (x, y - 10), cv2.FONT_HERSHEY_SIMPLEX, 0.5, label_color, 1)\n",
    "\n",
    "        cv2.imshow('Gender Detection', frame)\n",
    "\n",
    "        if cv2.waitKey(1) == ord('q') or cv2.waitKey(1) == 27:\n",
    "            break\n",
    "\n",
    "    # release camera\n",
    "    cap.release()\n",
    "    cv2.destroyAllWindows()\n"
   ]
  },
  {
   "cell_type": "code",
   "execution_count": 9,
   "id": "e465f3192aed7f0e",
   "metadata": {
    "ExecuteTime": {
     "end_time": "2024-07-19T08:03:38.172916Z",
     "start_time": "2024-07-19T08:03:38.168910Z"
    }
   },
   "outputs": [],
   "source": []
  },
  {
   "cell_type": "code",
   "execution_count": null,
   "id": "dbba401796820274",
   "metadata": {},
   "outputs": [],
   "source": []
  }
 ],
 "metadata": {
  "kernelspec": {
   "display_name": "Python 3",
   "language": "python",
   "name": "python3"
  },
  "language_info": {
   "codemirror_mode": {
    "name": "ipython",
    "version": 3
   },
   "file_extension": ".py",
   "mimetype": "text/x-python",
   "name": "python",
   "nbconvert_exporter": "python",
   "pygments_lexer": "ipython3",
   "version": "3.12.4"
  }
 },
 "nbformat": 4,
 "nbformat_minor": 5
}
